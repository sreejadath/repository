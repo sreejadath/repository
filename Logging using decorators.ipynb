{
 "cells": [
  {
   "cell_type": "markdown",
   "id": "0eb7e316",
   "metadata": {},
   "source": [
    "# Logging using decorators"
   ]
  },
  {
   "cell_type": "code",
   "execution_count": 15,
   "id": "c1249868",
   "metadata": {},
   "outputs": [
    {
     "name": "stdout",
     "output_type": "stream",
     "text": [
      "add function retuned value 9 \n",
      "\n"
     ]
    },
    {
     "data": {
      "text/plain": [
       "9"
      ]
     },
     "execution_count": 15,
     "metadata": {},
     "output_type": "execute_result"
    }
   ],
   "source": [
    "def logged(function):\n",
    "    def wrapper(*args , **kwargs):\n",
    "        value = function(*args , **kwargs)\n",
    "        with open('logfile.txt','a+') as f:\n",
    "            fname = function.__name__\n",
    "            print(f\"{fname} function retuned value {value} \\n\")\n",
    "            f.write(f\"{fname} function retuned value {value} \\n\")\n",
    "        return value\n",
    "    return wrapper\n",
    "\n",
    "@logged\n",
    "def test(a,b):\n",
    "    return a+b\n",
    "\n",
    "add(4,5)"
   ]
  },
  {
   "cell_type": "code",
   "execution_count": 14,
   "id": "b1728cf3",
   "metadata": {},
   "outputs": [
    {
     "name": "stdout",
     "output_type": "stream",
     "text": [
      "add function retuned value value add function retuned value value add function retuned value 9 add function retuned value 9 \n",
      "add function retuned value 9 \n",
      "add function retuned value 9 \n",
      "\n"
     ]
    }
   ],
   "source": [
    "with open('logfile.txt','r') as f:\n",
    "     print(f.read())"
   ]
  }
 ],
 "metadata": {
  "kernelspec": {
   "display_name": "Python 3 (ipykernel)",
   "language": "python",
   "name": "python3"
  },
  "language_info": {
   "codemirror_mode": {
    "name": "ipython",
    "version": 3
   },
   "file_extension": ".py",
   "mimetype": "text/x-python",
   "name": "python",
   "nbconvert_exporter": "python",
   "pygments_lexer": "ipython3",
   "version": "3.11.6"
  }
 },
 "nbformat": 4,
 "nbformat_minor": 5
}
